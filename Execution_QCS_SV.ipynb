{
 "cells": [
  {
   "cell_type": "code",
   "execution_count": 1,
   "metadata": {},
   "outputs": [],
   "source": [
    "# (C) Copyright Aaron Goldberg, 2022.\n",
    "#\n",
    "# This code is licensed under the Apache License, Version 2.0. You may\n",
    "# obtain a copy of this license in the LICENSE.txt file in the root directory\n",
    "# of this source tree or at http://www.apache.org/licenses/LICENSE-2.0.\n",
    "#\n",
    "# Any modifications or derivative works of this code must retain this\n",
    "# copyright notice, and modified files need to carry a notice indicating\n",
    "# that they have been altered from the originals."
   ]
  },
  {
   "cell_type": "code",
   "execution_count": 1,
   "metadata": {},
   "outputs": [
    {
     "name": "stderr",
     "output_type": "stream",
     "text": [
      "2023-01-03 16:36:57.883672: I tensorflow/core/platform/cpu_feature_guard.cc:193] This TensorFlow binary is optimized with oneAPI Deep Neural Network Library (oneDNN) to use the following CPU instructions in performance-critical operations:  AVX2 AVX512F FMA\n",
      "To enable them in other operations, rebuild TensorFlow with the appropriate compiler flags.\n"
     ]
    }
   ],
   "source": [
    "import strawberryfields as sf\n",
    "from strawberryfields.ops import Sgate, Rgate, BSgate, MeasureFock\n",
    "from strawberryfields.tdm import borealis_gbs, full_compile, get_mode_indices\n",
    "import numpy as np"
   ]
  },
  {
   "cell_type": "code",
   "execution_count": 2,
   "metadata": {},
   "outputs": [],
   "source": [
    "# Compilation will make sure the specs match an actual device, so must be done using a particular device and its characteristics\n",
    "eng = sf.RemoteEngine(\"borealis\")\n",
    "device = eng.device"
   ]
  },
  {
   "cell_type": "code",
   "execution_count": 3,
   "metadata": {},
   "outputs": [],
   "source": [
    "# Let's define our circuit manually\n",
    "modes = 2\n",
    "\n",
    "# squeezing-gate parameters. These will be rounded to the closest one supported by hardware, so that can by verified\n",
    "#r0 = device.certificate[\"squeezing_parameters_mean\"][\"high\"]\n",
    "r = [1.2] * modes\n",
    "\n",
    "# rotation-gate parameters\n",
    "phi_0 = [0.] * modes\n",
    "phi_1 = [0.] * modes\n",
    "phi_2 = [0.] * modes\n",
    "phi_0[1] = -np.pi/2 # Makes sure we have a 50:50 BS instead of a symmetric one\n",
    "\n",
    "# beamsplitter parameters. Set irrelevant transmission parameters to 0 to bypass all nonessential loops and mitigate losses\n",
    "T_0 = [0.] * modes\n",
    "T_1 = [0.] * modes\n",
    "T_2 = [0.] * modes\n",
    "T_0[1] = 0.5 # 50:50 BS\n",
    "alpha_0 = np.arccos(np.sqrt(T_0))\n",
    "alpha_1 = np.arccos(np.sqrt(T_1))\n",
    "alpha_2 = np.arccos(np.sqrt(T_2))\n",
    "\n",
    "# the travel time per delay line in time bins\n",
    "delay_0, delay_1, delay_2 = 1, 6, 36\n",
    "\n",
    "# set the first beamsplitter arguments to 'T=1' ('alpha=0') to fill the\n",
    "# loops with pulses\n",
    "alpha_0[:delay_0] = 0.0\n",
    "alpha_1[:delay_1] = 0.0\n",
    "alpha_2[:delay_2] = 0.0\n",
    "\n",
    "# The gate arguments need to be defined as lists, so if they were defined with numpy we need to cast them to lists\n",
    "gate_args = {\n",
    "    \"Sgate\": r,\n",
    "    \"loops\": {\n",
    "        0: {\"Rgate\": phi_0, \"BSgate\": alpha_0.tolist()},\n",
    "        1: {\"Rgate\": phi_1, \"BSgate\": alpha_1.tolist()},\n",
    "        2: {\"Rgate\": phi_2, \"BSgate\": alpha_2.tolist()},\n",
    "    },\n",
    "}"
   ]
  },
  {
   "cell_type": "code",
   "execution_count": 4,
   "metadata": {},
   "outputs": [
    {
     "name": "stderr",
     "output_type": "stream",
     "text": [
      "WARNING:strawberryfields.tdm.utils:Submitted squeezing values have been matched to the closest median value supported by hardware: ['0.000', '0.653', '0.978', '1.156'].\n",
      "WARNING:strawberryfields.tdm.utils:21/45 arguments of phase gate 1 have been shifted by pi in order to be compatible with the phase modulators.\n",
      "WARNING:strawberryfields.tdm.utils:9/45 arguments of phase gate 2 have been shifted by pi in order to be compatible with the phase modulators.\n"
     ]
    }
   ],
   "source": [
    "# Now compile:\n",
    "gate_args_list = full_compile(gate_args, device)"
   ]
  },
  {
   "cell_type": "code",
   "execution_count": 5,
   "metadata": {},
   "outputs": [],
   "source": [
    "# Verify components if desired\n",
    "#gate_args_list[2]"
   ]
  },
  {
   "cell_type": "code",
   "execution_count": 6,
   "metadata": {},
   "outputs": [],
   "source": [
    "delays = [1, 6, 36]\n",
    "vac_modes = sum(delays)\n",
    "\n",
    "n, N = get_mode_indices(delays)"
   ]
  },
  {
   "cell_type": "code",
   "execution_count": 7,
   "metadata": {},
   "outputs": [],
   "source": [
    "prog = sf.TDMProgram(N)\n",
    "\n",
    "with prog.context(*gate_args_list) as (p, q):\n",
    "    Sgate(p[0]) | q[n[0]]\n",
    "    #LossChannel(eta_glob) | q[n[0]]\n",
    "    for i in range(len(delays)):\n",
    "        Rgate(p[2 * i + 1]) | q[n[i]]\n",
    "        BSgate(p[2 * i + 2], np.pi / 2) | (q[n[i + 1]], q[n[i]]) # Get rid of phases to make regular 50:50 BS instead of symmetric BS\n",
    "        #LossChannel(etas_loop[i]) | q[n[i]]\n",
    "    #LossChannel(p[7]) | q[0]\n",
    "    MeasureFock() | q[0]"
   ]
  },
  {
   "cell_type": "code",
   "execution_count": 8,
   "metadata": {},
   "outputs": [],
   "source": [
    "shots = 10**6\n",
    "results = eng.run(prog, shots=shots, crop=True)"
   ]
  },
  {
   "cell_type": "code",
   "execution_count": null,
   "metadata": {},
   "outputs": [],
   "source": []
  },
  {
   "cell_type": "code",
   "execution_count": 9,
   "metadata": {},
   "outputs": [
    {
     "name": "stdout",
     "output_type": "stream",
     "text": [
      "966000\n"
     ]
    }
   ],
   "source": [
    "shots=len(results.samples) # This is in case we exceeded a maximum\n",
    "print(shots)"
   ]
  },
  {
   "cell_type": "code",
   "execution_count": 10,
   "metadata": {},
   "outputs": [],
   "source": [
    "np.savetxt(f'QCS_SV_r{gate_args_list[0][0]}.csv', np.reshape(results.samples,[shots, modes]).astype(int), delimiter=',',fmt='%i')"
   ]
  },
  {
   "cell_type": "code",
   "execution_count": 50,
   "metadata": {},
   "outputs": [
    {
     "name": "stdout",
     "output_type": "stream",
     "text": [
      "Highest number recorded on a detector is:  12\n"
     ]
    }
   ],
   "source": [
    "# Count how many times each detector said a given number of photons; this is <n|rho|n> for each mode\n",
    "max_photon=np.amax(results.samples)\n",
    "print(\"Highest number recorded on a detector is: \",max_photon)\n",
    "#all_my_probs=[np.count_nonzero(results.samples == n, axis=0)/shots for n in range(max_photon+1)]\n",
    "# We only need to look at mode 1 for determining the QCS. This is the mode where the creation/annihilation operators get converted into the difference a-b, up to a global phase here or a relative phase between the final two modes, as can be verified by the transfer matrix\n",
    "my_probs=[np.count_nonzero(results.samples[:,:,1] == n)/shots for n in range(max_photon+1)] "
   ]
  },
  {
   "cell_type": "code",
   "execution_count": 48,
   "metadata": {},
   "outputs": [
    {
     "name": "stdout",
     "output_type": "stream",
     "text": [
      "Number of modes: 2 Average number of photons detected per mode:  0.41680904522613066\n",
      "Quadrature coherence scale from mode 1: 0.7579166743512661\n",
      "If it was pure we'd have QCS of 1+2 nbar (with nbar from squeezed vacuum): 5.086842953286617\n",
      "nbar of mode 1 0.3794532663316582\n",
      "purity of initial state from output Fock 0.6539216080402009\n",
      "g^2(0) mode 1: 3.2445779681137634\n"
     ]
    }
   ],
   "source": [
    "print(\"Number of modes:\",modes,\"Average number of photons detected per mode: \",np.sum(results.samples)/shots/modes)\n",
    "print(\"Quadrature coherence scale from mode 1:\",1.+2*np.sum([n*((-1)**n) * my_probs[n] for n in range(max_photon+1)])/np.sum([((-1)**n) * my_probs[n] for n in range(max_photon+1)]))\n",
    "print(\"If it was pure we'd have QCS of 1+2 nbar (with nbar from squeezed vacuum):\",1.+2.*np.sinh(gate_args_list[0][0])**2)\n",
    "print(\"nbar of mode 1\",np.sum([n * my_probs[n] for n in range(max_photon+1)]))\n",
    "print(\"purity of initial state from output Fock\",np.sum([((-1)**n) * my_probs[n] for n in range(max_photon+1)]))\n",
    "print(\"g^2(0) mode 1:\",np.sum([n*n*my_probs[n] for n in range(max_photon+1)])/(np.sum([n * my_probs[n] for n in range(max_photon+1)])**2)-1/(np.sum([n * my_probs[n] for n in range(max_photon+1)])))"
   ]
  },
  {
   "cell_type": "code",
   "execution_count": 49,
   "metadata": {},
   "outputs": [
    {
     "data": {
      "text/plain": [
       "{'target': 'borealis',\n",
       " 'finished_at': '2022-12-15T18:41:33.367752+00:00',\n",
       " 'loop_phases': [-1.758, 0.873, 1.917],\n",
       " 'schmidt_number': 1.145,\n",
       " 'common_efficiency': 0.386,\n",
       " 'loop_efficiencies': [0.887, 0.827, 0.727],\n",
       " 'squeezing_parameters_mean': {'low': 0.658,\n",
       "  'high': 1.155,\n",
       "  'medium': 0.979,\n",
       "  'zero': 0},\n",
       " 'relative_channel_efficiencies': [0.925,\n",
       "  0.933,\n",
       "  0.908,\n",
       "  0.998,\n",
       "  0.968,\n",
       "  0.916,\n",
       "  0.897,\n",
       "  0.969,\n",
       "  0.956,\n",
       "  0.96,\n",
       "  0.96,\n",
       "  1.0,\n",
       "  0.938,\n",
       "  0.968,\n",
       "  0.962,\n",
       "  0.907]}"
      ]
     },
     "execution_count": 49,
     "metadata": {},
     "output_type": "execute_result"
    }
   ],
   "source": [
    "device.certificate"
   ]
  },
  {
   "cell_type": "code",
   "execution_count": null,
   "metadata": {},
   "outputs": [],
   "source": []
  }
 ],
 "metadata": {
  "kernelspec": {
   "display_name": "Python 3",
   "language": "python",
   "name": "python3"
  },
  "language_info": {
   "codemirror_mode": {
    "name": "ipython",
    "version": 3
   },
   "file_extension": ".py",
   "mimetype": "text/x-python",
   "name": "python",
   "nbconvert_exporter": "python",
   "pygments_lexer": "ipython3",
   "version": "3.8.5"
  },
  "toc-showtags": false
 },
 "nbformat": 4,
 "nbformat_minor": 5
}
