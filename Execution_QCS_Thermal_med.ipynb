{
 "cells": [
  {
   "cell_type": "code",
   "execution_count": 1,
   "id": "957246fd-b681-4804-9b76-2e2837ac0832",
   "metadata": {},
   "outputs": [],
   "source": [
    "# (C) Copyright Aaron Goldberg, 2022.\n",
    "#\n",
    "# This code is licensed under the Apache License, Version 2.0. You may\n",
    "# obtain a copy of this license in the LICENSE.txt file in the root directory\n",
    "# of this source tree or at http://www.apache.org/licenses/LICENSE-2.0.\n",
    "#\n",
    "# Any modifications or derivative works of this code must retain this\n",
    "# copyright notice, and modified files need to carry a notice indicating\n",
    "# that they have been altered from the originals."
   ]
  },
  {
   "cell_type": "code",
   "execution_count": 1,
   "id": "8a146d6a-94c6-47d5-8365-8ebe2dc8fb68",
   "metadata": {},
   "outputs": [
    {
     "name": "stderr",
     "output_type": "stream",
     "text": [
      "2023-01-03 16:04:37.543331: I tensorflow/core/platform/cpu_feature_guard.cc:193] This TensorFlow binary is optimized with oneAPI Deep Neural Network Library (oneDNN) to use the following CPU instructions in performance-critical operations:  AVX2 AVX512F FMA\n",
      "To enable them in other operations, rebuild TensorFlow with the appropriate compiler flags.\n"
     ]
    }
   ],
   "source": [
    "import strawberryfields as sf\n",
    "from strawberryfields.ops import Sgate, Rgate, BSgate, MeasureFock\n",
    "from strawberryfields.tdm import borealis_gbs, full_compile, get_mode_indices\n",
    "import numpy as np"
   ]
  },
  {
   "cell_type": "code",
   "execution_count": 2,
   "id": "6eedc23a-37c4-4253-988d-f7025cc0d0ed",
   "metadata": {},
   "outputs": [],
   "source": [
    "# Compilation will make sure the specs match an actual device, so must be done using a particular device and its characteristics\n",
    "eng = sf.RemoteEngine(\"borealis\")\n",
    "device = eng.device"
   ]
  },
  {
   "cell_type": "code",
   "execution_count": 3,
   "id": "0350df15-8ed0-48eb-9b8e-8371f5948079",
   "metadata": {},
   "outputs": [],
   "source": [
    "# Let's define our circuit manually\n",
    "modes = 8\n",
    "\n",
    "# squeezing-gate parameters. These will be rounded to the closest one supported by hardware, so that can by verified\n",
    "#r0 = device.certificate[\"squeezing_parameters_mean\"][\"high\"]\n",
    "r = [0.9] * modes\n",
    "\n",
    "# rotation-gate parameters\n",
    "phi_0 = [0.] * modes\n",
    "phi_1 = [0.] * modes\n",
    "phi_2 = [0.] * modes\n",
    "\n",
    "phi_0[0]=np.pi # Let's make the BS converting SV to TMSV have nice phases, look like ((1,i),(i,1))/sqrt(2)\n",
    "phi_0[1]=np.pi # Let's make the BS converting SV to TMSV have nice phases, look like ((1,i),(i,1))/sqrt(2)\n",
    "\n",
    "phi_1[6]=-np.pi/2 # Makes sure we have a 50:50 BS instead of a symmetric one for QCS\n",
    "\n",
    "# beamsplitter parameters. Set irrelevant transmission parameters to 0 to bypass all nonessential loops and mitigate losses\n",
    "T_0 = [1.] * modes\n",
    "T_1 = [1.] * modes\n",
    "T_2 = [0.] * modes\n",
    "\n",
    "T_0[1] = 0.5 # symmetric BS will convert two SV into one TMSV\n",
    "T_0[7] = 0.5 # symmetric BS will convert two SV into one TMSV\n",
    "\n",
    "T_1[6] = 0.5 # For QCS need a 50:50\n",
    "\n",
    "alpha_0 = np.arccos(np.sqrt(T_0))\n",
    "alpha_1 = np.arccos(np.sqrt(T_1))\n",
    "alpha_2 = np.arccos(np.sqrt(T_2))\n",
    "\n",
    "# the travel time per delay line in time bins\n",
    "delay_0, delay_1, delay_2 = 1, 6, 36\n",
    "\n",
    "# set the first beamsplitter arguments to 'T=1' ('alpha=0') to fill the\n",
    "# loops with pulses\n",
    "alpha_0[:delay_0] = 0.0\n",
    "alpha_1[:delay_1] = 0.0\n",
    "alpha_2[:delay_2] = 0.0\n",
    "#alpha_1[2] = np.arccos(np.sqrt(0.5))\n",
    "\n",
    "\n",
    "# The gate arguments need to be defined as lists, so if they were defined with numpy we need to cast them to lists\n",
    "gate_args = {\n",
    "    \"Sgate\": r,\n",
    "    \"loops\": {\n",
    "        0: {\"Rgate\": phi_0, \"BSgate\": alpha_0.tolist()},\n",
    "        1: {\"Rgate\": phi_1, \"BSgate\": alpha_1.tolist()},\n",
    "        2: {\"Rgate\": phi_2, \"BSgate\": alpha_2.tolist()},\n",
    "    },\n",
    "}"
   ]
  },
  {
   "cell_type": "code",
   "execution_count": 4,
   "id": "b1e45f31-c162-4b16-9eb6-17ae71ba7e31",
   "metadata": {},
   "outputs": [
    {
     "name": "stderr",
     "output_type": "stream",
     "text": [
      "WARNING:strawberryfields.tdm.utils:Submitted squeezing values have been matched to the closest median value supported by hardware: ['0.000', '0.653', '0.978', '1.156'].\n",
      "WARNING:strawberryfields.tdm.utils:27/51 arguments of phase gate 1 have been shifted by pi in order to be compatible with the phase modulators.\n",
      "WARNING:strawberryfields.tdm.utils:15/51 arguments of phase gate 2 have been shifted by pi in order to be compatible with the phase modulators.\n"
     ]
    }
   ],
   "source": [
    "# Now compile:\n",
    "gate_args_list = full_compile(gate_args, device)"
   ]
  },
  {
   "cell_type": "code",
   "execution_count": 5,
   "id": "38eb8f9a-051e-48d8-ae0d-c9343141158a",
   "metadata": {},
   "outputs": [],
   "source": [
    "# Verify components if desired\n",
    "#gate_args_list[4]"
   ]
  },
  {
   "cell_type": "code",
   "execution_count": 6,
   "id": "73c9b49e-860a-471a-8dab-726153356a9c",
   "metadata": {},
   "outputs": [],
   "source": [
    "delays = [1, 6, 36]\n",
    "vac_modes = sum(delays)\n",
    "\n",
    "n, N = get_mode_indices(delays)"
   ]
  },
  {
   "cell_type": "code",
   "execution_count": 7,
   "id": "07b8612e-c698-46f4-a4e4-fd844b98dd60",
   "metadata": {},
   "outputs": [],
   "source": [
    "prog = sf.TDMProgram(N)\n",
    "\n",
    "with prog.context(*gate_args_list) as (p, q):\n",
    "    Sgate(p[0]) | q[n[0]]\n",
    "    #LossChannel(eta_glob) | q[n[0]]\n",
    "    for i in range(len(delays)):\n",
    "        Rgate(p[2 * i + 1]) | q[n[i]]\n",
    "        BSgate(p[2 * i + 2], np.pi / 2) | (q[n[i + 1]], q[n[i]]) # Get rid of phases to make regular 50:50 BS instead of symmetric BS\n",
    "        #LossChannel(etas_loop[i]) | q[n[i]]\n",
    "    #LossChannel(p[7]) | q[0]\n",
    "    MeasureFock() | q[0]"
   ]
  },
  {
   "cell_type": "code",
   "execution_count": 8,
   "id": "a0f8e0c2-2839-4f60-a9e5-a6ce55f5d468",
   "metadata": {},
   "outputs": [],
   "source": [
    "shots = 1_000_000\n",
    "results = eng.run(prog, shots=shots, crop=True)"
   ]
  },
  {
   "cell_type": "code",
   "execution_count": 9,
   "id": "a9790db8-8df3-4816-9599-609f4622aab6",
   "metadata": {},
   "outputs": [
    {
     "name": "stdout",
     "output_type": "stream",
     "text": [
      "994000\n"
     ]
    }
   ],
   "source": [
    "shots=len(results.samples) # This is in case we exceeded a maximum\n",
    "print(shots)"
   ]
  },
  {
   "cell_type": "code",
   "execution_count": 10,
   "id": "848c6d92-a44d-4cc2-8d32-f3f71583e0cc",
   "metadata": {},
   "outputs": [],
   "source": [
    "np.savetxt(f'QCS_Th_r{gate_args_list[0][0]}.csv', np.reshape(results.samples,[shots, modes]).astype(int), delimiter=',',fmt='%i')"
   ]
  },
  {
   "cell_type": "code",
   "execution_count": 5,
   "id": "7c43d8cd-ad31-46f7-baa0-cce61ee6fd6b",
   "metadata": {},
   "outputs": [],
   "source": [
    "my_samples=np.loadtxt(f'QCS_Th_r{gate_args_list[0][0]}.csv', delimiter=',', dtype=int)\n",
    "shots=len(my_samples)\n",
    "modes=len(my_samples[1])"
   ]
  },
  {
   "cell_type": "code",
   "execution_count": 6,
   "id": "ed5c45e3-51c2-44ba-8e02-94370843dd60",
   "metadata": {},
   "outputs": [
    {
     "name": "stdout",
     "output_type": "stream",
     "text": [
      "Highest number recorded on a detector is:  12\n"
     ]
    }
   ],
   "source": [
    "# Count how many times each detector said a given number of photons; this is <n|rho|n> for each mode\n",
    "max_photon=np.amax(my_samples)\n",
    "print(\"Highest number recorded on a detector is: \",max_photon)\n",
    "#all_my_probs=[np.count_nonzero(results.samples == n, axis=0)/shots for n in range(max_photon+1)]\n",
    "# We only need to look at mode 0 for determining the QCS here. This is the mode where the creation/annihilation operators get converted into the difference a-b, up to a global phase here or a relative phase between the final two modes, as can be verified by the transfer matrix\n",
    "my_probs=[np.count_nonzero(my_samples[:][0] == n)/shots for n in range(max_photon+1)] "
   ]
  },
  {
   "cell_type": "code",
   "execution_count": 8,
   "id": "10cc05b1-8b57-46d6-bc50-a89f5a90b714",
   "metadata": {},
   "outputs": [
    {
     "name": "stdout",
     "output_type": "stream",
     "text": [
      "Number of modes: 8 Average number of photons detected per mode:  0.2638495\n",
      "Quadrature coherence scale from mode 0: 2.220446049250313e-16\n",
      "If it was pure we'd have QCS of 1+2 nbar (with nbar from squeezed vacuum): 3.6131415099435227\n",
      "nbar of mode 0 2e-06\n",
      "purity of initial state from output Fock 4.000000000000001e-06\n",
      "g^2(0) mode 0: 0.0\n"
     ]
    }
   ],
   "source": [
    "print(\"Number of modes:\",modes,\"Average number of photons detected per mode: \",np.sum(my_samples)/shots/modes)\n",
    "print(\"Quadrature coherence scale from mode 0:\",1.+2*np.sum([n*((-1)**n) * my_probs[n] for n in range(max_photon+1)])/np.sum([((-1)**n) * my_probs[n] for n in range(max_photon+1)]))\n",
    "print(\"If it was pure we'd have QCS of 1+2 nbar (with nbar from squeezed vacuum):\",1.+2.*np.sinh(gate_args_list[0][0])**2)\n",
    "print(\"nbar of mode 0\",np.sum([n * my_probs[n] for n in range(max_photon+1)]))\n",
    "print(\"purity of initial state from output Fock\",np.sum([((-1)**n) * my_probs[n] for n in range(max_photon+1)]))\n",
    "print(\"g^2(0) mode 0:\",np.sum([n*n*my_probs[n] for n in range(max_photon+1)])/(np.sum([n * my_probs[n] for n in range(max_photon+1)])**2)-1/(np.sum([n * my_probs[n] for n in range(max_photon+1)])))"
   ]
  },
  {
   "cell_type": "code",
   "execution_count": 15,
   "id": "f207722e-e5e2-49cf-bd2f-98dac5af8430",
   "metadata": {},
   "outputs": [
    {
     "data": {
      "text/plain": [
       "{'target': 'borealis',\n",
       " 'finished_at': '2022-12-15T18:41:33.367752+00:00',\n",
       " 'loop_phases': [-1.758, 0.873, 1.917],\n",
       " 'schmidt_number': 1.145,\n",
       " 'common_efficiency': 0.386,\n",
       " 'loop_efficiencies': [0.887, 0.827, 0.727],\n",
       " 'squeezing_parameters_mean': {'low': 0.658,\n",
       "  'high': 1.155,\n",
       "  'medium': 0.979,\n",
       "  'zero': 0},\n",
       " 'relative_channel_efficiencies': [0.925,\n",
       "  0.933,\n",
       "  0.908,\n",
       "  0.998,\n",
       "  0.968,\n",
       "  0.916,\n",
       "  0.897,\n",
       "  0.969,\n",
       "  0.956,\n",
       "  0.96,\n",
       "  0.96,\n",
       "  1.0,\n",
       "  0.938,\n",
       "  0.968,\n",
       "  0.962,\n",
       "  0.907]}"
      ]
     },
     "execution_count": 15,
     "metadata": {},
     "output_type": "execute_result"
    }
   ],
   "source": [
    "device.certificate"
   ]
  },
  {
   "cell_type": "code",
   "execution_count": null,
   "id": "95d881bc-6b7a-4ef3-a80d-81eed2b8c837",
   "metadata": {},
   "outputs": [],
   "source": []
  }
 ],
 "metadata": {
  "kernelspec": {
   "display_name": "PennyLane",
   "language": "python",
   "name": "pennylane"
  },
  "language_info": {
   "codemirror_mode": {
    "name": "ipython",
    "version": 3
   },
   "file_extension": ".py",
   "mimetype": "text/x-python",
   "name": "python",
   "nbconvert_exporter": "python",
   "pygments_lexer": "ipython3",
   "version": "3.9.13"
  }
 },
 "nbformat": 4,
 "nbformat_minor": 5
}
