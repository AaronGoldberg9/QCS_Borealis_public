{
 "cells": [
  {
   "cell_type": "code",
   "execution_count": 1,
   "id": "957246fd-b681-4804-9b76-2e2837ac0832",
   "metadata": {},
   "outputs": [],
   "source": [
    "# (C) Copyright Aaron Goldberg, 2022.\n",
    "#\n",
    "# This code is licensed under the Apache License, Version 2.0. You may\n",
    "# obtain a copy of this license in the LICENSE.txt file in the root directory\n",
    "# of this source tree or at http://www.apache.org/licenses/LICENSE-2.0.\n",
    "#\n",
    "# Any modifications or derivative works of this code must retain this\n",
    "# copyright notice, and modified files need to carry a notice indicating\n",
    "# that they have been altered from the originals."
   ]
  },
  {
   "cell_type": "code",
   "execution_count": 1,
   "id": "8a146d6a-94c6-47d5-8365-8ebe2dc8fb68",
   "metadata": {},
   "outputs": [
    {
     "name": "stderr",
     "output_type": "stream",
     "text": [
      "2022-12-16 15:30:02.719554: I tensorflow/core/platform/cpu_feature_guard.cc:193] This TensorFlow binary is optimized with oneAPI Deep Neural Network Library (oneDNN) to use the following CPU instructions in performance-critical operations:  AVX2 AVX512F FMA\n",
      "To enable them in other operations, rebuild TensorFlow with the appropriate compiler flags.\n"
     ]
    }
   ],
   "source": [
    "import strawberryfields as sf\n",
    "from strawberryfields.ops import Sgate, Rgate, BSgate, MeasureFock\n",
    "from strawberryfields.tdm import borealis_gbs, full_compile, get_mode_indices\n",
    "import numpy as np"
   ]
  },
  {
   "cell_type": "code",
   "execution_count": 2,
   "id": "6eedc23a-37c4-4253-988d-f7025cc0d0ed",
   "metadata": {},
   "outputs": [],
   "source": [
    "# Compilation will make sure the specs match an actual device, so must be done using a particular device and its characteristics\n",
    "eng = sf.RemoteEngine(\"borealis\")\n",
    "device = eng.device"
   ]
  },
  {
   "cell_type": "code",
   "execution_count": 3,
   "id": "0350df15-8ed0-48eb-9b8e-8371f5948079",
   "metadata": {},
   "outputs": [],
   "source": [
    "# Let's define our circuit manually\n",
    "modes = 8\n",
    "\n",
    "# squeezing-gate parameters. These will be rounded to the closest one supported by hardware, so that can by verified\n",
    "#r0 = device.certificate[\"squeezing_parameters_mean\"][\"high\"]\n",
    "r = [1.2] * modes\n",
    "\n",
    "# rotation-gate parameters\n",
    "phi_0 = [0.] * modes\n",
    "phi_1 = [0.] * modes\n",
    "phi_2 = [0.] * modes\n",
    "\n",
    "phi_0[0]=np.pi # Let's make the BS converting SV to TMSV have nice phases, look like ((1,i),(i,1))/sqrt(2)\n",
    "phi_0[1]=np.pi # Let's make the BS converting SV to TMSV have nice phases, look like ((1,i),(i,1))/sqrt(2)\n",
    "\n",
    "phi_1[6]=-np.pi/2 # Makes sure we have a 50:50 BS instead of a symmetric one for QCS\n",
    "\n",
    "# beamsplitter parameters. Set irrelevant transmission parameters to 0 to bypass all nonessential loops and mitigate losses\n",
    "T_0 = [1.] * modes\n",
    "T_1 = [1.] * modes\n",
    "T_2 = [0.] * modes\n",
    "\n",
    "T_0[1] = 0.5 # symmetric BS will convert two SV into one TMSV\n",
    "T_0[7] = 0.5 # symmetric BS will convert two SV into one TMSV\n",
    "\n",
    "T_1[6] = 0.5 # For QCS need a 50:50\n",
    "\n",
    "alpha_0 = np.arccos(np.sqrt(T_0))\n",
    "alpha_1 = np.arccos(np.sqrt(T_1))\n",
    "alpha_2 = np.arccos(np.sqrt(T_2))\n",
    "\n",
    "# the travel time per delay line in time bins\n",
    "delay_0, delay_1, delay_2 = 1, 6, 36\n",
    "\n",
    "# set the first beamsplitter arguments to 'T=1' ('alpha=0') to fill the\n",
    "# loops with pulses\n",
    "alpha_0[:delay_0] = 0.0\n",
    "alpha_1[:delay_1] = 0.0\n",
    "alpha_2[:delay_2] = 0.0\n",
    "#alpha_1[2] = np.arccos(np.sqrt(0.5))\n",
    "\n",
    "\n",
    "# The gate arguments need to be defined as lists, so if they were defined with numpy we need to cast them to lists\n",
    "gate_args = {\n",
    "    \"Sgate\": r,\n",
    "    \"loops\": {\n",
    "        0: {\"Rgate\": phi_0, \"BSgate\": alpha_0.tolist()},\n",
    "        1: {\"Rgate\": phi_1, \"BSgate\": alpha_1.tolist()},\n",
    "        2: {\"Rgate\": phi_2, \"BSgate\": alpha_2.tolist()},\n",
    "    },\n",
    "}"
   ]
  },
  {
   "cell_type": "code",
   "execution_count": 4,
   "id": "b1e45f31-c162-4b16-9eb6-17ae71ba7e31",
   "metadata": {},
   "outputs": [
    {
     "name": "stderr",
     "output_type": "stream",
     "text": [
      "WARNING:strawberryfields.tdm.utils:Submitted squeezing values have been matched to the closest median value supported by hardware: ['0.000', '0.663', '0.981', '1.153'].\n",
      "WARNING:strawberryfields.tdm.utils:26/51 arguments of phase gate 1 have been shifted by pi in order to be compatible with the phase modulators.\n",
      "WARNING:strawberryfields.tdm.utils:36/51 arguments of phase gate 2 have been shifted by pi in order to be compatible with the phase modulators.\n"
     ]
    }
   ],
   "source": [
    "# Now compile:\n",
    "gate_args_list = full_compile(gate_args, device)"
   ]
  },
  {
   "cell_type": "code",
   "execution_count": 5,
   "id": "38eb8f9a-051e-48d8-ae0d-c9343141158a",
   "metadata": {},
   "outputs": [],
   "source": [
    "# Verify components if desired\n",
    "#gate_args_list[4]"
   ]
  },
  {
   "cell_type": "code",
   "execution_count": 6,
   "id": "73c9b49e-860a-471a-8dab-726153356a9c",
   "metadata": {},
   "outputs": [],
   "source": [
    "delays = [1, 6, 36]\n",
    "vac_modes = sum(delays)\n",
    "\n",
    "n, N = get_mode_indices(delays)"
   ]
  },
  {
   "cell_type": "code",
   "execution_count": 7,
   "id": "df7f8140-3d55-4e1a-94cf-b38875d508b3",
   "metadata": {},
   "outputs": [
    {
     "name": "stdout",
     "output_type": "stream",
     "text": [
      "minimum loss for any mode is:  0.614\n"
     ]
    }
   ],
   "source": [
    "# Use this if want to manually add realistic losses gleaned from the device characteristics, can then be tweaked\n",
    "eta_glob = device.certificate[\"common_efficiency\"]\n",
    "etas_loop = device.certificate[\"loop_efficiencies\"]\n",
    "etas_ch_rel = device.certificate[\"relative_channel_efficiencies\"]\n",
    "\n",
    "prog_length = len(gate_args_list[0])\n",
    "reps = int(np.ceil(prog_length / 16))\n",
    "etas_ch_rel = np.tile(etas_ch_rel, reps)[:prog_length]\n",
    "etas_ch_rel = etas_ch_rel.tolist()\n",
    "\n",
    "gate_args_list += [etas_ch_rel]\n",
    "\n",
    "from strawberryfields.ops import LossChannel\n",
    "print(\"minimum loss for any mode is: \", 1-eta_glob)"
   ]
  },
  {
   "cell_type": "code",
   "execution_count": 8,
   "id": "07b8612e-c698-46f4-a4e4-fd844b98dd60",
   "metadata": {},
   "outputs": [],
   "source": [
    "prog = sf.TDMProgram(N)\n",
    "\n",
    "with prog.context(*gate_args_list) as (p, q):\n",
    "    Sgate(p[0]) | q[n[0]]\n",
    "    #LossChannel(eta_glob) | q[n[0]]\n",
    "    for i in range(len(delays)):\n",
    "        Rgate(p[2 * i + 1]) | q[n[i]]\n",
    "        BSgate(p[2 * i + 2], np.pi / 2) | (q[n[i + 1]], q[n[i]]) # Get rid of phases to make regular 50:50 BS instead of symmetric BS\n",
    "        #LossChannel(etas_loop[i]) | q[n[i]]\n",
    "    #LossChannel(p[7]) | q[0]\n",
    "    MeasureFock() | q[0]"
   ]
  },
  {
   "cell_type": "code",
   "execution_count": 9,
   "id": "75f6a586-51f0-4012-a8fe-edf98bbe1300",
   "metadata": {},
   "outputs": [
    {
     "name": "stdout",
     "output_type": "stream",
     "text": [
      "The transfer matrix is:  [[ 0.5       -0.j          0.        +0.5j         0.        +0.j\n",
      "   0.        +0.j          0.        +0.j          0.        +0.j\n",
      "   0.5       +0.j         -0.        +0.5j       ]\n",
      " [ 0.        +0.70710678j  0.70710678-0.j          0.        +0.j\n",
      "   0.        +0.j          0.        +0.j          0.        +0.j\n",
      "   0.        +0.j          0.        +0.j        ]\n",
      " [ 0.        +0.j          0.        +0.j          1.        +0.j\n",
      "   0.        +0.j          0.        +0.j          0.        +0.j\n",
      "   0.        +0.j          0.        +0.j        ]\n",
      " [ 0.        +0.j          0.        +0.j          0.        +0.j\n",
      "   1.        +0.j          0.        +0.j          0.        +0.j\n",
      "   0.        +0.j          0.        +0.j        ]\n",
      " [ 0.        +0.j          0.        +0.j          0.        +0.j\n",
      "   0.        +0.j         -1.        +0.j          0.        +0.j\n",
      "   0.        +0.j          0.        +0.j        ]\n",
      " [ 0.        +0.j          0.        +0.j          0.        +0.j\n",
      "   0.        +0.j          0.        +0.j         -1.        +0.j\n",
      "   0.        +0.j          0.        +0.j        ]\n",
      " [-0.        -0.5j         0.5       -0.j          0.        +0.j\n",
      "   0.        +0.j          0.        +0.j          0.        +0.j\n",
      "   0.        +0.5j        -0.5       -0.j        ]\n",
      " [ 0.        +0.j          0.        +0.j          0.        +0.j\n",
      "   0.        +0.j          0.        +0.j          0.        +0.j\n",
      "   0.        +0.70710678j  0.70710678-0.j        ]]\n"
     ]
    }
   ],
   "source": [
    "# Let's check the transfer matrix for the relevant modes\n",
    "prog_passive = sf.TDMProgram(N)\n",
    "with prog_passive.context(*gate_args_list) as (p, q):\n",
    "    for i in range(len(delays)):\n",
    "        Rgate(p[2 * i + 1]) | q[n[i]]\n",
    "        BSgate(p[2 * i + 2], np.pi / 2) | (q[n[i + 1]], q[n[i]])\n",
    "prog_passive.space_unroll()\n",
    "prog_passive = prog_passive.compile(compiler=\"passive\")\n",
    "transfer_matrix_tot = prog_passive.circuit[0].op.p[0]\n",
    "# crop out the vacuum modes\n",
    "transfer_matrix = transfer_matrix_tot[vac_modes:prog_length, vac_modes:prog_length]\n",
    "print(\"The transfer matrix is: \", transfer_matrix.round(15))"
   ]
  },
  {
   "cell_type": "code",
   "execution_count": 10,
   "id": "d6a9884a-d3b5-4de4-82a4-2ca007748573",
   "metadata": {},
   "outputs": [],
   "source": [
    "compile_options = {\n",
    "    \"device\": device,\n",
    "    \"realistic_loss\": True,\n",
    "}\n",
    "run_options = {\n",
    "    \"shots\": 0,\n",
    "    \"crop\": True,\n",
    "    \"space_unroll\": True,\n",
    "}\n",
    "\n",
    "eng_sim = sf.Engine(backend=\"gaussian\")\n",
    "results_sim = eng_sim.run(prog, **run_options, compile_options=compile_options) # Using automated loss\n",
    "#results_sim = eng_sim.run(prog, shots=None, space_unroll=True, crop=True) # Using manual loss from specific device"
   ]
  },
  {
   "cell_type": "code",
   "execution_count": 11,
   "id": "e42e7eb6-b675-4653-84d6-071db57e7811",
   "metadata": {},
   "outputs": [
    {
     "name": "stdout",
     "output_type": "stream",
     "text": [
      "Number of modes:  8\n",
      "trace, purity of mode 0 calculated with Fock (faulty!):  (1+3.7163315509484746e-20j) (0.5028747731593068+2.5653180350076894e-20j)\n",
      "trace, purity of mode 1 calculated with Fock (faulty!):  (1+1.3593855776347135e-20j) (0.5730588101332679+2.5639800575415312e-20j)\n",
      "Quadrature coherence scale from mode 0: (0.5031955633165026-2.1896117282073384e-20j)\n",
      "If it was pure we'd have QCS of 1+2 nbar: 5.0669332680766805\n",
      "nbar (0.3729212061123657+4.885995600590816e-20j)\n",
      "purity of initial state from output Fock (0.5730588101332679+1.4445547489946277e-20j)\n",
      "g^2(0) mode 0: (2.0051509129854606+1.0428808729162231e-18j)\n"
     ]
    }
   ],
   "source": [
    "# For a thermal state, QCS = purity\n",
    "state = results_sim.state\n",
    "print(\"Number of modes: \",state.num_modes)\n",
    "high_cutoff=40\n",
    "low_cutoff=40\n",
    "mode0=state.reduced_dm(0,cutoff=high_cutoff) #This does some weird things when the cutoff is too small!\n",
    "print(\"trace, purity of mode 0 calculated with Fock (faulty!): \",np.trace(mode0),np.trace(np.matmul(mode0,mode0)))\n",
    "mode1=state.reduced_dm(1,cutoff=high_cutoff) #This does some weird things when the cutoff is too small!\n",
    "print(\"trace, purity of mode 1 calculated with Fock (faulty!): \",np.trace(mode1),np.trace(np.matmul(mode1,mode1)))\n",
    "gauss0=state.reduced_gaussian(0)\n",
    "gauss1=state.reduced_gaussian(1)\n",
    "\n",
    "# If I make a state using the covariance matrix and means listed above, I get the wrong answer\n",
    "from thewalrus.quantum import state_vector, density_matrix\n",
    "mu0=gauss0[0]\n",
    "cov0=gauss0[1]\n",
    "#psi0 = state_vector(mu0, cov0, normalize=False, cutoff=low_cutoff) # Can only use this for pure states\n",
    "rho0 = density_matrix(mu0, cov0, normalize=False, cutoff=low_cutoff)\n",
    "#print(psi0) # Can only use this for pure states\n",
    "#print(np.diag(rho0))\n",
    "#print(np.diag(mode0))\n",
    "mu1=gauss1[0]\n",
    "cov1=gauss1[1]\n",
    "#psi1 = state_vector(mu1, cov1, normalize=False, cutoff=low_cutoff) # Can only use this for pure states\n",
    "rho1 = density_matrix(mu1, cov1, normalize=False, cutoff=low_cutoff)\n",
    "#print(psi1) # Can only use this for pure states\n",
    "#print(rho1)\n",
    "#print(mode1)\n",
    "print(\"Quadrature coherence scale from mode 0:\",1.+2*np.sum([n*((-1)**n) * rho0[n][n] for n in range(low_cutoff)])/np.sum([((-1)**n) * rho0[n][n] for n in range(low_cutoff)]))\n",
    "print(\"If it was pure we'd have QCS of 1+2 nbar:\",1.+2.*np.sinh(gate_args_list[0][0])**2)\n",
    "print(\"nbar\",np.sum([n * rho1[n][n] for n in range(low_cutoff)]))\n",
    "print(\"purity of initial state from output Fock\",np.sum([((-1)**n) * rho1[n][n] for n in range(low_cutoff)]))\n",
    "print(\"g^2(0) mode 0:\",np.sum([n*(n-1)*rho0[n][n] for n in range(low_cutoff)])/(np.sum([n * rho0[n][n] for n in range(low_cutoff)])**2))"
   ]
  },
  {
   "cell_type": "code",
   "execution_count": 47,
   "id": "8c0f5d8b-59ec-4516-b7de-4da1fa43acd0",
   "metadata": {},
   "outputs": [],
   "source": [
    "np.savetxt('sample_data.out',mode0, delimiter=',')"
   ]
  },
  {
   "cell_type": "code",
   "execution_count": 176,
   "id": "a0f8e0c2-2839-4f60-a9e5-a6ce55f5d468",
   "metadata": {},
   "outputs": [
    {
     "data": {
      "text/plain": [
       "array([[5.06693327e+00, 1.37454592e-15],\n",
       "       [1.37454592e-15, 5.06693327e+00]])"
      ]
     },
     "execution_count": 176,
     "metadata": {},
     "output_type": "execute_result"
    }
   ],
   "source": [
    "cov0"
   ]
  },
  {
   "cell_type": "code",
   "execution_count": null,
   "id": "a9790db8-8df3-4816-9599-609f4622aab6",
   "metadata": {},
   "outputs": [],
   "source": []
  }
 ],
 "metadata": {
  "kernelspec": {
   "display_name": "PennyLane",
   "language": "python",
   "name": "pennylane"
  },
  "language_info": {
   "codemirror_mode": {
    "name": "ipython",
    "version": 3
   },
   "file_extension": ".py",
   "mimetype": "text/x-python",
   "name": "python",
   "nbconvert_exporter": "python",
   "pygments_lexer": "ipython3",
   "version": "3.9.13"
  }
 },
 "nbformat": 4,
 "nbformat_minor": 5
}
